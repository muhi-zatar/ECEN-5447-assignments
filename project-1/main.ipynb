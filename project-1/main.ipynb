{
 "cells": [
  {
   "cell_type": "code",
   "execution_count": 1,
   "metadata": {},
   "outputs": [
    {
     "name": "stderr",
     "output_type": "stream",
     "text": [
      "\u001b[32m\u001b[1m  Activating\u001b[22m\u001b[39m project at `~/projects/ecen_5447_scripts/ECEN-5447-assignments`\n",
      "\u001b[32m\u001b[1m  No Changes\u001b[22m\u001b[39m to `~/projects/ecen_5447_scripts/ECEN-5447-assignments/Project.toml`\n",
      "\u001b[32m\u001b[1m  No Changes\u001b[22m\u001b[39m to `~/projects/ecen_5447_scripts/ECEN-5447-assignments/Manifest.toml`\n"
     ]
    },
    {
     "data": {
      "text/plain": [
       "PowerFlows"
      ]
     },
     "metadata": {},
     "output_type": "display_data"
    }
   ],
   "source": [
    "# Ensure script runs in the correct environment\n",
    "cd(@__DIR__)\n",
    "using Pkg\n",
    "Pkg.activate(\"../.\")\n",
    "Pkg.resolve()\n",
    "Pkg.instantiate()\n",
    "\n",
    "# Import libraries\n",
    "using DifferentialEquations\n",
    "using Plots\n",
    "using LinearAlgebra\n",
    "using PowerSystems\n",
    "using PowerFlows\n",
    "const PSY = PowerSystems\n",
    "const PF = PowerFlows\n"
   ]
  },
  {
   "cell_type": "markdown",
   "metadata": {},
   "source": [
    "Start with Power Flow Solution"
   ]
  },
  {
   "cell_type": "code",
   "execution_count": 2,
   "metadata": {},
   "outputs": [
    {
     "name": "stderr",
     "output_type": "stream",
     "text": [
      "┌ Info: Did not find a PowerFlows.jl PSS/E export metadata file at ../data/ThreeBusMultiLoad_export_metadata.json, will not do any remapping\n",
      "└ @ PowerSystems /Users/robstallman/.julia/packages/PowerSystems/azBUB/src/parsers/psse_metadata_reimport.jl:166\n",
      "┌ Info: The PSS(R)E parser currently supports buses, loads, shunts, generators, branches, transformers, and dc lines\n",
      "└ @ PowerSystems /Users/robstallman/.julia/packages/PowerSystems/azBUB/src/parsers/pm_io/common.jl:42\n",
      "┌ Info: The PSS(R)E parser currently supports buses, loads, shunts, generators, branches, transformers, and dc lines\n",
      "└ @ PowerSystems /Users/robstallman/.julia/packages/PowerSystems/azBUB/src/parsers/pm_io/psse.jl:1103\n",
      "┌ Info: Parsing PSS(R)E Bus data into a PowerModels Dict...\n",
      "└ @ PowerSystems /Users/robstallman/.julia/packages/PowerSystems/azBUB/src/parsers/pm_io/psse.jl:275\n",
      "┌ Info: Parsing PSS(R)E Load data into a PowerModels Dict...\n",
      "└ @ PowerSystems /Users/robstallman/.julia/packages/PowerSystems/azBUB/src/parsers/pm_io/psse.jl:314\n",
      "┌ Info: Parsing PSS(R)E Shunt data into a PowerModels Dict...\n",
      "└ @ PowerSystems /Users/robstallman/.julia/packages/PowerSystems/azBUB/src/parsers/pm_io/psse.jl:347\n",
      "┌ Info: Parsing PSS(R)E Generator data into a PowerModels Dict...\n",
      "└ @ PowerSystems /Users/robstallman/.julia/packages/PowerSystems/azBUB/src/parsers/pm_io/psse.jl:227\n",
      "┌ Info: Parsing PSS(R)E Branch data into a PowerModels Dict...\n",
      "└ @ PowerSystems /Users/robstallman/.julia/packages/PowerSystems/azBUB/src/parsers/pm_io/psse.jl:163\n",
      "┌ Info: Parsing PSS(R)E Transformer data into a PowerModels Dict...\n",
      "└ @ PowerSystems /Users/robstallman/.julia/packages/PowerSystems/azBUB/src/parsers/pm_io/psse.jl:404\n",
      "┌ Info: Parsing PSS(R)E Two-Terminal and VSC DC line data into a PowerModels Dict...\n",
      "└ @ PowerSystems /Users/robstallman/.julia/packages/PowerSystems/azBUB/src/parsers/pm_io/psse.jl:828\n",
      "┌ Warning: This PSS(R)E parser currently doesn't support Storage data parsing...\n",
      "└ @ PowerSystems /Users/robstallman/.julia/packages/PowerSystems/azBUB/src/parsers/pm_io/psse.jl:998\n",
      "┌ Warning: This PSS(R)E parser currently doesn't support Switch data parsing...\n",
      "└ @ PowerSystems /Users/robstallman/.julia/packages/PowerSystems/azBUB/src/parsers/pm_io/psse.jl:1004\n",
      "┌ Info: angmin and angmax values are 0, widening these values on branch 1 to +/- 60.0 deg.\n",
      "└ @ PowerSystems /Users/robstallman/.julia/packages/PowerSystems/azBUB/src/parsers/pm_io/data.jl:1077\n",
      "┌ Info: angmin and angmax values are 0, widening these values on branch 2 to +/- 60.0 deg.\n",
      "└ @ PowerSystems /Users/robstallman/.julia/packages/PowerSystems/azBUB/src/parsers/pm_io/data.jl:1077\n",
      "┌ Info: angmin and angmax values are 0, widening these values on branch 3 to +/- 60.0 deg.\n",
      "└ @ PowerSystems /Users/robstallman/.julia/packages/PowerSystems/azBUB/src/parsers/pm_io/data.jl:1077\n",
      "┌ Info: Constructing System from Power Models\n",
      "│   data[\"name\"] = threebusmultiload\n",
      "│   data[\"source_type\"] = pti\n",
      "└ @ PowerSystems /Users/robstallman/.julia/packages/PowerSystems/azBUB/src/parsers/power_models_data.jl:58\n",
      "┌ Info: Reading bus data\n",
      "└ @ PowerSystems /Users/robstallman/.julia/packages/PowerSystems/azBUB/src/parsers/power_models_data.jl:188\n",
      "┌ Info: Reading Load data in PowerModels dict to populate System ...\n",
      "└ @ PowerSystems /Users/robstallman/.julia/packages/PowerSystems/azBUB/src/parsers/power_models_data.jl:284\n",
      "┌ Info: Reading LoadZones data in PowerModels dict to populate System ...\n",
      "└ @ PowerSystems /Users/robstallman/.julia/packages/PowerSystems/azBUB/src/parsers/power_models_data.jl:333\n",
      "┌ Info: Reading generator data\n",
      "└ @ PowerSystems /Users/robstallman/.julia/packages/PowerSystems/azBUB/src/parsers/power_models_data.jl:625\n",
      "┌ Info: Reading branch data\n",
      "└ @ PowerSystems /Users/robstallman/.julia/packages/PowerSystems/azBUB/src/parsers/power_models_data.jl:798\n",
      "┌ Info: Reading shunt data\n",
      "└ @ PowerSystems /Users/robstallman/.julia/packages/PowerSystems/azBUB/src/parsers/power_models_data.jl:869\n",
      "┌ Info: Reading DC Line data\n",
      "└ @ PowerSystems /Users/robstallman/.julia/packages/PowerSystems/azBUB/src/parsers/power_models_data.jl:836\n",
      "┌ Info: Reading storage data\n",
      "└ @ PowerSystems /Users/robstallman/.julia/packages/PowerSystems/azBUB/src/parsers/power_models_data.jl:893\n",
      "┌ Info: The powerflow solver with KLU converged after 4 iterations\n",
      "└ @ PowerFlows /Users/robstallman/.julia/packages/PowerFlows/3L5mS/src/newton_ac_powerflow.jl:717\n",
      "┌ Info: PowerFlow solve converged, the results are exported in DataFrames\n",
      "└ @ PowerFlows /Users/robstallman/.julia/packages/PowerFlows/3L5mS/src/newton_ac_powerflow.jl:112\n",
      "┌ Info: Voltages are exported in pu. Powers are exported in MW/MVAr.\n",
      "└ @ PowerFlows /Users/robstallman/.julia/packages/PowerFlows/3L5mS/src/post_processing.jl:614\n"
     ]
    },
    {
     "data": {
      "text/plain": [
       "Dict{String, DataFrames.DataFrame} with 2 entries:\n",
       "  \"flow_results\" => \u001b[1m3×9 DataFrame\u001b[0m\u001b[0m…\n",
       "  \"bus_results\"  => \u001b[1m3×9 DataFrame\u001b[0m\u001b[0m…"
      ]
     },
     "metadata": {},
     "output_type": "display_data"
    }
   ],
   "source": [
    "sys = PSY.System(\"../data/ThreeBusMultiLoad.raw\")\n",
    "pf_result = PF.solve_powerflow(ACPowerFlow{}(), sys)"
   ]
  },
  {
   "cell_type": "code",
   "execution_count": 3,
   "metadata": {},
   "outputs": [
    {
     "data": {
      "text/plain": [
       "3-element Vector{Float64}:\n",
       "  0.24501857920705117\n",
       "  0.10751144041475172\n",
       " -0.3"
      ]
     },
     "metadata": {},
     "output_type": "display_data"
    }
   ],
   "source": [
    "# Get power flow output\n",
    "v = pf_result[\"bus_results\"].Vm     # [pu-V]\n",
    "θ = pf_result[\"bus_results\"].θ      # [rad]\n",
    "\n",
    "# Sienna exports power injections in MW/MVar, so adjust by system base\n",
    "P = pf_result[\"bus_results\"].P_net / PSY.get_base_power(sys) # [pu(MW)]\n",
    "Q = pf_result[\"bus_results\"].Q_net / PSY.get_base_power(sys) # [pu(MVar)]"
   ]
  },
  {
   "cell_type": "code",
   "execution_count": 4,
   "metadata": {},
   "outputs": [
    {
     "name": "stdout",
     "output_type": "stream",
     "text": [
      "[1.02, 1.0142, 0.9869282927720892]"
     ]
    }
   ],
   "source": [
    "print(v)"
   ]
  },
  {
   "cell_type": "code",
   "execution_count": 5,
   "metadata": {},
   "outputs": [
    {
     "data": {
      "text/plain": [
       "3-element Vector{Float64}:\n",
       "  0.0\n",
       " -0.007843738409384567\n",
       " -0.1104518610357432"
      ]
     },
     "metadata": {},
     "output_type": "display_data"
    }
   ],
   "source": [
    "θ"
   ]
  },
  {
   "cell_type": "code",
   "execution_count": 6,
   "metadata": {},
   "outputs": [
    {
     "data": {
      "text/plain": [
       "3-element Vector{Float64}:\n",
       "  1.017056789531292\n",
       "  0.8\n",
       " -1.8"
      ]
     },
     "metadata": {},
     "output_type": "display_data"
    }
   ],
   "source": [
    "P"
   ]
  },
  {
   "cell_type": "code",
   "execution_count": 7,
   "metadata": {},
   "outputs": [
    {
     "data": {
      "text/plain": [
       "3-element Vector{Float64}:\n",
       "  0.24501857920705117\n",
       "  0.10751144041475172\n",
       " -0.3"
      ]
     },
     "metadata": {},
     "output_type": "display_data"
    }
   ],
   "source": [
    "Q"
   ]
  },
  {
   "cell_type": "code",
   "execution_count": 9,
   "metadata": {},
   "outputs": [
    {
     "data": {
      "text/plain": [
       "(1.0142, -0.007843738409384567, 0.8, 0.10751144041475172)"
      ]
     },
     "metadata": {},
     "output_type": "display_data"
    }
   ],
   "source": [
    "(V_0, θ_0, P_0, Q_0) = v[2], θ[2], P[2], Q[2]\n"
   ]
  },
  {
   "cell_type": "code",
   "execution_count": 11,
   "metadata": {},
   "outputs": [
    {
     "data": {
      "text/plain": [
       "1.0141688012217909 - 0.007955037922945551im"
      ]
     },
     "metadata": {},
     "output_type": "display_data"
    }
   ],
   "source": [
    "# Terminal voltage\n",
    "v = V_0 * ℯ^(im * θ_0)"
   ]
  },
  {
   "cell_type": "code",
   "execution_count": 12,
   "metadata": {},
   "outputs": [
    {
     "data": {
      "text/plain": [
       "0.7879433124292734 - 0.11218996207454346im"
      ]
     },
     "metadata": {},
     "output_type": "display_data"
    }
   ],
   "source": [
    "# Calculate initial current injection\n",
    "i = conj(complex(P_0, Q_0)) / conj(v)"
   ]
  },
  {
   "cell_type": "code",
   "execution_count": 13,
   "metadata": {},
   "outputs": [
    {
     "data": {
      "text/plain": [
       "0.8 + 0.10751144041475172im"
      ]
     },
     "metadata": {},
     "output_type": "display_data"
    }
   ],
   "source": [
    "v * conj(i)"
   ]
  },
  {
   "cell_type": "code",
   "execution_count": 15,
   "metadata": {},
   "outputs": [],
   "source": [
    "# Machine Parameters (per unit)\n",
    "struct MachineParams\n",
    "    H::Float64      # Inertia constant (s)\n",
    "    D::Float64      # Damping coefficient\n",
    "    Xd::Float64     # d-axis synchronous reactance\n",
    "    Xq::Float64     # q-axis synchronous reactance\n",
    "    Xdp::Float64    # d-axis transient reactance\n",
    "    Xqp::Float64    # q-axis transient reactance\n",
    "    Xdpp::Float64   # d-axis subtransient reactance\n",
    "    Xqpp::Float64   # q-axis subtransient reactance\n",
    "    Xl::Float64     # Leakage reactance\n",
    "    Td0p::Float64   # d-axis transient open-circuit time constant (s)\n",
    "    Tq0p::Float64   # q-axis transient open-circuit time constant (s)\n",
    "    Td0pp::Float64  # d-axis subtransient open-circuit time constant (s)\n",
    "    Tq0pp::Float64  # q-axis subtransient open-circuit time constant (s)\n",
    "    Taa::Float64    # d-axis additional leakage time constant (s) –– Presently unused\n",
    "    Ra::Float64     # Armature resistance\n",
    "end"
   ]
  },
  {
   "cell_type": "code",
   "execution_count": 16,
   "metadata": {},
   "outputs": [
    {
     "data": {
      "text/plain": [
       "MachineParams(3.148, 2.0, 1.79, 1.71, 0.169, 0.228, 0.135, 0.2, 0.13, 4.3, 0.85, 0.032, 0.05, 0.0, 0.002)"
      ]
     },
     "metadata": {},
     "output_type": "display_data"
    }
   ],
   "source": [
    "function default_machine_params()\n",
    "    return MachineParams(\n",
    "        3.148,  # H\n",
    "        2.0,    # D\n",
    "        1.79,   # Xd\n",
    "        1.71,   # Xq\n",
    "        0.169,  # Xdp\n",
    "        0.228,  # Xqp\n",
    "        0.135,  # Xdpp\n",
    "        0.2,    # Xqpp\n",
    "        0.13,   # Xl\n",
    "        4.3,    # Td0p\n",
    "        0.85,   # Tq0p\n",
    "        0.032,  # Td0pp\n",
    "        0.05,   # Tq0pp\n",
    "        0.00,   # Taa\n",
    "        0.002   # Ra\n",
    "    )\n",
    "end\n",
    "machine = default_machine_params()"
   ]
  },
  {
   "cell_type": "code",
   "execution_count": 17,
   "metadata": {},
   "outputs": [
    {
     "data": {
      "text/plain": [
       "0.8370306034067273"
      ]
     },
     "metadata": {},
     "output_type": "display_data"
    }
   ],
   "source": [
    "# Calculate initial rotor angle\n",
    "δ0 = angle(v + complex(machine.Ra, machine.Xq) * i)             # Eqn. 9.11"
   ]
  },
  {
   "cell_type": "code",
   "execution_count": 18,
   "metadata": {},
   "outputs": [
    {
     "data": {
      "text/plain": [
       "-0.007843738409384567"
      ]
     },
     "metadata": {},
     "output_type": "display_data"
    }
   ],
   "source": [
    "θ_0"
   ]
  },
  {
   "cell_type": "code",
   "execution_count": 19,
   "metadata": {},
   "outputs": [
    {
     "data": {
      "text/plain": [
       "0.19342072177232786 + 1.3471586843299084im"
      ]
     },
     "metadata": {},
     "output_type": "display_data"
    }
   ],
   "source": [
    "complex(machine.Ra, machine.Xq) * i"
   ]
  },
  {
   "cell_type": "code",
   "execution_count": 20,
   "metadata": {},
   "outputs": [
    {
     "data": {
      "text/plain": [
       "1.4281940875147179"
      ]
     },
     "metadata": {},
     "output_type": "display_data"
    }
   ],
   "source": [
    "angle(complex(machine.Ra, machine.Xq) * i)"
   ]
  },
  {
   "cell_type": "code",
   "execution_count": 21,
   "metadata": {},
   "outputs": [
    {
     "data": {
      "text/plain": [
       "81.82949354013107"
      ]
     },
     "metadata": {},
     "output_type": "display_data"
    }
   ],
   "source": [
    "rad2deg(angle(complex(machine.Ra, machine.Xq) * i))"
   ]
  },
  {
   "cell_type": "code",
   "execution_count": 22,
   "metadata": {},
   "outputs": [
    {
     "data": {
      "text/plain": [
       "-0.44941310646239324"
      ]
     },
     "metadata": {},
     "output_type": "display_data"
    }
   ],
   "source": [
    "rad2deg(θ_0)\n"
   ]
  },
  {
   "cell_type": "code",
   "execution_count": 23,
   "metadata": {},
   "outputs": [
    {
     "data": {
      "text/plain": [
       "0.002 + 1.71im"
      ]
     },
     "metadata": {},
     "output_type": "display_data"
    }
   ],
   "source": [
    "complex(machine.Ra, machine.Xq)\n"
   ]
  },
  {
   "cell_type": "code",
   "execution_count": 24,
   "metadata": {},
   "outputs": [
    {
     "data": {
      "text/plain": [
       "47.9583208984941"
      ]
     },
     "metadata": {},
     "output_type": "display_data"
    }
   ],
   "source": [
    "rad2deg(δ0)"
   ]
  },
  {
   "cell_type": "code",
   "execution_count": 25,
   "metadata": {},
   "outputs": [
    {
     "data": {
      "text/plain": [
       "0.6732515847143696"
      ]
     },
     "metadata": {},
     "output_type": "display_data"
    }
   ],
   "source": [
    "vdq = v * ℯ^(-1 * im * (δ0 - π / 2))\n",
    "Vd_0 = real(vdq)\n",
    "Vq_0 = imag(vdq)"
   ]
  },
  {
   "cell_type": "code",
   "execution_count": 26,
   "metadata": {},
   "outputs": [
    {
     "data": {
      "text/plain": [
       "0.0"
      ]
     },
     "metadata": {},
     "output_type": "display_data"
    }
   ],
   "source": [
    "V_0 * sin(δ0 - θ_0) - Vd_0"
   ]
  },
  {
   "cell_type": "code",
   "execution_count": 27,
   "metadata": {},
   "outputs": [
    {
     "data": {
      "text/plain": [
       "0.0"
      ]
     },
     "metadata": {},
     "output_type": "display_data"
    }
   ],
   "source": [
    "V_0 * cos(δ0 - θ_0) - Vq_0"
   ]
  },
  {
   "cell_type": "code",
   "execution_count": 28,
   "metadata": {},
   "outputs": [
    {
     "data": {
      "text/plain": [
       "0.44434404311986414"
      ]
     },
     "metadata": {},
     "output_type": "display_data"
    }
   ],
   "source": [
    "# Current\n",
    "idq = i * ℯ^(-1 * im * (δ0 - π / 2))\n",
    "Id_0 = real(idq)\n",
    "Iq_0 = imag(idq)"
   ]
  },
  {
   "cell_type": "code",
   "execution_count": 29,
   "metadata": {},
   "outputs": [
    {
     "data": {
      "text/plain": [
       "0.7142857142857143"
      ]
     },
     "metadata": {},
     "output_type": "display_data"
    }
   ],
   "source": [
    "# Prepare Milano's helper variables for the next step           # Eqn. 15.14\n",
    "γd1 = (machine.Xdpp - machine.Xl) / (machine.Xdp - machine.Xl)\n",
    "γq1 = (machine.Xqpp - machine.Xl) / (machine.Xqp - machine.Xl)"
   ]
  },
  {
   "cell_type": "code",
   "execution_count": 30,
   "metadata": {},
   "outputs": [
    {
     "data": {
      "text/plain": [
       "5-element Vector{Float64}:\n",
       "  0.6585178719036389\n",
       "  0.7857314248658887\n",
       "  0.7599796205431318\n",
       " -0.7020635881293855\n",
       "  1.8560820609476498"
      ]
     },
     "metadata": {},
     "output_type": "display_data"
    }
   ],
   "source": [
    "A = [-γq1 0 0 (1-γq1) 0;\n",
    "    0 γd1 (1-γd1) 0 0;\n",
    "    0 1 -1 0 0;\n",
    "    -1 0 0 -1 0;\n",
    "    0 -1 0 0 1]\n",
    "b = [machine.Xqpp * Iq_0 - machine.Ra * Id_0 - Vd_0;\n",
    "    machine.Ra * Iq_0 + machine.Xdpp * Id_0 + Vq_0;\n",
    "    (machine.Xdp - machine.Xl) * Id_0;\n",
    "    (machine.Xqp - machine.Xl) * Iq_0;\n",
    "    (machine.Xd - machine.Xdp) * Id_0]\n",
    "\n",
    "(Ed_p0, Eq_p0, ψd_pp0, ψq_pp0, Vf_0) = A \\ b"
   ]
  },
  {
   "cell_type": "code",
   "execution_count": 33,
   "metadata": {},
   "outputs": [
    {
     "data": {
      "text/plain": [
       "0.7599796205431318"
      ]
     },
     "metadata": {},
     "output_type": "display_data"
    }
   ],
   "source": [
    "# Gut check\n",
    "ψd_pp0_check = machine.Ra * Iq_0 + machine.Xdpp * Id_0 + Vq_0 - γd1 * (machine.Xdp - machine.Xl) * Id_0"
   ]
  },
  {
   "cell_type": "code",
   "execution_count": 34,
   "metadata": {},
   "outputs": [
    {
     "data": {
      "text/plain": [
       "6-element Vector{Float64}:\n",
       "  0.8370306034067273\n",
       "  1.0\n",
       "  0.7857314248658887\n",
       "  0.6585178719036389\n",
       " -0.7020635881293855\n",
       "  0.7599796205431318"
      ]
     },
     "metadata": {},
     "output_type": "display_data"
    }
   ],
   "source": [
    "u0_SM = [δ0, 1.0, Eq_p0, Ed_p0, ψq_pp0, ψd_pp0]"
   ]
  },
  {
   "cell_type": "code",
   "execution_count": 35,
   "metadata": {},
   "outputs": [
    {
     "data": {
      "text/plain": [
       "6-element Vector{Float64}:\n",
       " 1.2541870494434764e219\n",
       " 6.807402956849389e199\n",
       " 9.701582850788981e189\n",
       " 1.428816065556828e248\n",
       " 6.815498219306276e246\n",
       " 1.4288160655558137e248"
      ]
     },
     "metadata": {},
     "output_type": "display_data"
    }
   ],
   "source": [
    "du0_SM = Vector{Float64}(undef, 6) # return object for derivative calculation"
   ]
  },
  {
   "cell_type": "code",
   "execution_count": 38,
   "metadata": {},
   "outputs": [
    {
     "data": {
      "text/plain": [
       "(MachineParams(3.148, 2.0, 1.79, 1.71, 0.169, 0.228, 0.135, 0.2, 0.13, 4.3, 0.85, 0.032, 0.05, 0.0, 0.002), (1.0142, -0.007843738409384567, 0.8, 0.10751144041475172))"
      ]
     },
     "metadata": {},
     "output_type": "display_data"
    }
   ],
   "source": [
    "p_SM = (machine, (V_0, θ_0, P_0, Q_0))"
   ]
  },
  {
   "cell_type": "code",
   "execution_count": 40,
   "metadata": {},
   "outputs": [
    {
     "data": {
      "text/plain": [
       "synchronous_machine_dynamics! (generic function with 1 method)"
      ]
     },
     "metadata": {},
     "output_type": "display_data"
    }
   ],
   "source": [
    "function synchronous_machine_dynamics!(du, u, p, t)\n",
    "    # Unpack parameters\n",
    "    machine, pf_result = p\n",
    "    (V, θ, P, Q) = pf_result\n",
    "\n",
    "    # Unpack state variables\n",
    "    δ, ω, Eq_p, Ed_p, ψq_pp, ψd_pp = u\n",
    "\n",
    "    # Calculate terminal conditions\n",
    "    # Stator voltage equations\n",
    "    # TO-DO: CHECK WHETHER THE BUS ANGLE FROM POWER FLOW SOLUTION SHOULD BE INCLUDED\n",
    "    Vd = V * sin(δ - θ)       # Eqn 15.4\n",
    "    Vq = V * cos(δ - θ)       # Eqn 15.4\n",
    "    println(\"Vd = $Vd\\nVq = $Vq\\n\")\n",
    "\n",
    "    # Terminal voltage\n",
    "    Vt = sqrt(Vd^2 + Vq^2)\n",
    "\n",
    "    # Calculate machine currents\n",
    "    # Helper variables (Eqn 15.14)\n",
    "    γd1 = (machine.Xdpp - machine.Xl) / (machine.Xdp - machine.Xl)\n",
    "    γq1 = (machine.Xqpp - machine.Xl) / (machine.Xqp - machine.Xl)\n",
    "    γd2 = (1 - γd1) / (machine.Xdp - machine.Xl)\n",
    "    γq2 = (1 - γq1) / (machine.Xqp - machine.Xl)\n",
    "\n",
    "    # Current equations (Use 15.11 and 15.15 to eliminate ψq and ψd, solve for Id and Iq)\n",
    "    A = [machine.Xdpp machine.Ra; machine.Ra -machine.Xqpp]\n",
    "    b = [-Vq + γd1 * Eq_p + (1 - γd1) * ψd_pp; -Vd + γq1 * Ed_p + (1 - γq1) * ψq_pp]\n",
    "    currents = A \\ b\n",
    "    Id = currents[1]\n",
    "    Iq = currents[2]\n",
    "    println(\"Id = $Id\\nIq = $Iq\\n\")\n",
    "\n",
    "    # Calculate shaft conditions\n",
    "    # Electromagnetic torque/power (Use 15.11 and 15.6 to eliminate ψq and ψd, solve for Te)\n",
    "    Pe = Vd * Id + Vq * Iq + machine.Ra * (Id^2 + Iq^2)\n",
    "    println(\"Pe = $Pe\\n\")\n",
    "    # Te = Pe   # in per unit, torque equals power\n",
    "\n",
    "    # Total mechanical power input\n",
    "    Pm = Pe\n",
    "\n",
    "    # Synchronous speed in pu\n",
    "    ω_s = 1.0\n",
    "\n",
    "    # Shaft mechanical equations (Eqn 15.5)\n",
    "    du[1] = ω - ω_s  # dδ/dt\n",
    "    du[2] = (Pm - Pe - machine.D * (ω - ω_s)) / (2.0 * machine.H)\n",
    "\n",
    "    # Electrical dynamics\n",
    "    du[3] = (-Eq_p - (machine.Xd - machine.Xdp) * (Id - γd2 * ψd_pp - (1 - γd1) * Id + γd2 * Eq_p) + Vf) / machine.Td0p    # dE'q/dt\n",
    "    du[4] = (-Ed_p + (machine.Xq - machine.Xqp) * (Iq - γq2 * ψq_pp - (1 - γq1) * Iq - γq2 * Ed_p)) / machine.Tq0p         # dE'd/dt    TO-DO: CHECK TYPO IN γq2\n",
    "    du[5] = (-ψd_pp + Eq_p - (machine.Xdp - machine.Xl) * Id) / machine.Td0pp                                              # dE''q/dt\n",
    "    du[6] = (-ψq_pp - Ed_p - (machine.Xqp - machine.Xl) * Iq) / machine.Tq0pp                                              # dE''d/dt\n",
    "\n",
    "    # Add numerical stability safeguards\n",
    "    for i in 1:length(du)\n",
    "        # Limit the rate of change to reasonable values\n",
    "        if abs(du[i]) > 100.0\n",
    "            du[i] = sign(du[i]) * 100.0\n",
    "        end\n",
    "    end\n",
    "end"
   ]
  },
  {
   "cell_type": "code",
   "execution_count": 41,
   "metadata": {},
   "outputs": [
    {
     "name": "stdout",
     "output_type": "stream",
     "text": [
      "Vd = 0.7585077083850829\n",
      "Vq = 0.6732515847143696\n",
      "\n",
      "Id = 0.6305900995301867\n",
      "Iq = 2.4499428834496992\n",
      "\n",
      "Pe = 2.1405351080787485\n",
      "\n"
     ]
    },
    {
     "ename": "UndefVarError",
     "evalue": "UndefVarError: `Vf` not defined in `Main`\nSuggestion: check for spelling errors or missing imports.",
     "output_type": "error",
     "traceback": [
      "UndefVarError: `Vf` not defined in `Main`\n",
      "Suggestion: check for spelling errors or missing imports.\n",
      "\n",
      "Stacktrace:\n",
      " [1] synchronous_machine_dynamics!(du::Vector{Float64}, u::Vector{Float64}, p::Tuple{MachineParams, NTuple{4, Float64}}, t::Int64)\n",
      "   @ Main ~/projects/ecen_5447_scripts/ECEN-5447-assignments/project-1/jl_notebook_cell_df34fa98e69747e1a8f8a730347b8e2f_X55sZmlsZQ==.jl:51\n",
      " [2] top-level scope\n",
      "   @ ~/projects/ecen_5447_scripts/ECEN-5447-assignments/project-1/jl_notebook_cell_df34fa98e69747e1a8f8a730347b8e2f_X56sZmlsZQ==.jl:1"
     ]
    }
   ],
   "source": [
    "synchronous_machine_dynamics!(du0_SM, u0_SM, p_SM, 0)"
   ]
  },
  {
   "cell_type": "code",
   "execution_count": 42,
   "metadata": {},
   "outputs": [
    {
     "data": {
      "text/plain": [
       "(MachineParams(3.148, 2.0, 1.79, 1.71, 0.169, 0.228, 0.135, 0.2, 0.13, 4.3, 0.85, 0.032, 0.05, 0.0, 0.002), (1.0142, -0.007843738409384567, 0.8, 0.10751144041475172), 1.8560820609476498)"
      ]
     },
     "metadata": {},
     "output_type": "display_data"
    }
   ],
   "source": [
    "p_SM = (machine, (V_0, θ_0, P_0, Q_0), Vf_0)"
   ]
  },
  {
   "cell_type": "code",
   "execution_count": 43,
   "metadata": {},
   "outputs": [
    {
     "data": {
      "text/plain": [
       "synchronous_machine_dynamics! (generic function with 1 method)"
      ]
     },
     "metadata": {},
     "output_type": "display_data"
    }
   ],
   "source": [
    "function synchronous_machine_dynamics!(du, u, p, t)\n",
    "    # Unpack parameters\n",
    "    machine, pf_result, Vf = p\n",
    "    (V, θ, P, Q) = pf_result\n",
    "\n",
    "    # Unpack state variables\n",
    "    δ, ω, Eq_p, Ed_p, ψq_pp, ψd_pp = u\n",
    "\n",
    "    # Calculate terminal conditions\n",
    "    # Stator voltage equations\n",
    "    # TO-DO: CHECK WHETHER THE BUS ANGLE FROM POWER FLOW SOLUTION SHOULD BE INCLUDED\n",
    "    Vd = V * sin(δ - θ)       # Eqn 15.4\n",
    "    Vq = V * cos(δ - θ)       # Eqn 15.4\n",
    "    println(\"Vd = $Vd\\nVq = $Vq\\n\")\n",
    "\n",
    "    # Terminal voltage\n",
    "    Vt = sqrt(Vd^2 + Vq^2)\n",
    "\n",
    "    # Calculate machine currents\n",
    "    # Helper variables (Eqn 15.14)\n",
    "    γd1 = (machine.Xdpp - machine.Xl) / (machine.Xdp - machine.Xl)\n",
    "    γq1 = (machine.Xqpp - machine.Xl) / (machine.Xqp - machine.Xl)\n",
    "    γd2 = (1 - γd1) / (machine.Xdp - machine.Xl)\n",
    "    γq2 = (1 - γq1) / (machine.Xqp - machine.Xl)\n",
    "\n",
    "    # Current equations (Use 15.11 and 15.15 to eliminate ψq and ψd, solve for Id and Iq)\n",
    "    A = [machine.Xdpp machine.Ra; machine.Ra -machine.Xqpp]\n",
    "    b = [-Vq + γd1 * Eq_p + (1 - γd1) * ψd_pp; -Vd + γq1 * Ed_p + (1 - γq1) * ψq_pp]\n",
    "    currents = A \\ b\n",
    "    Id = currents[1]\n",
    "    Iq = currents[2]\n",
    "    println(\"Id = $Id\\nIq = $Iq\\n\")\n",
    "\n",
    "    # Calculate shaft conditions\n",
    "    # Electromagnetic torque/power (Use 15.11 and 15.6 to eliminate ψq and ψd, solve for Te)\n",
    "    Pe = Vd * Id + Vq * Iq + machine.Ra * (Id^2 + Iq^2)\n",
    "    println(\"Pe = $Pe\\n\")\n",
    "    # Te = Pe   # in per unit, torque equals power\n",
    "\n",
    "    # Total mechanical power input\n",
    "    Pm = Pe\n",
    "\n",
    "    # Synchronous speed in pu\n",
    "    ω_s = 1.0\n",
    "\n",
    "    # Shaft mechanical equations (Eqn 15.5)\n",
    "    du[1] = ω - ω_s  # dδ/dt\n",
    "    du[2] = (Pm - Pe - machine.D * (ω - ω_s)) / (2.0 * machine.H)\n",
    "\n",
    "    # Electrical dynamics\n",
    "    du[3] = (-Eq_p - (machine.Xd - machine.Xdp) * (Id - γd2 * ψd_pp - (1 - γd1) * Id + γd2 * Eq_p) + Vf) / machine.Td0p    # dE'q/dt\n",
    "    du[4] = (-Ed_p + (machine.Xq - machine.Xqp) * (Iq - γq2 * ψq_pp - (1 - γq1) * Iq - γq2 * Ed_p)) / machine.Tq0p         # dE'd/dt    TO-DO: CHECK TYPO IN γq2\n",
    "    du[5] = (-ψd_pp + Eq_p - (machine.Xdp - machine.Xl) * Id) / machine.Td0pp                                              # dE''q/dt\n",
    "    du[6] = (-ψq_pp - Ed_p - (machine.Xqp - machine.Xl) * Iq) / machine.Tq0pp                                              # dE''d/dt\n",
    "\n",
    "    # Add numerical stability safeguards\n",
    "    for i in 1:length(du)\n",
    "        # Limit the rate of change to reasonable values\n",
    "        if abs(du[i]) > 100.0\n",
    "            du[i] = sign(du[i]) * 100.0\n",
    "        end\n",
    "    end\n",
    "end"
   ]
  },
  {
   "cell_type": "code",
   "execution_count": 44,
   "metadata": {},
   "outputs": [
    {
     "name": "stdout",
     "output_type": "stream",
     "text": [
      "Vd = 0.7585077083850829\n",
      "Vq = 0.6732515847143696\n",
      "\n",
      "Id = 0.6305900995301867\n",
      "Iq = 2.4499428834496992\n",
      "\n",
      "Pe = 2.1405351080787485\n",
      "\n"
     ]
    }
   ],
   "source": [
    "synchronous_machine_dynamics!(du0_SM, u0_SM, p_SM, 0)"
   ]
  },
  {
   "cell_type": "code",
   "execution_count": 47,
   "metadata": {},
   "outputs": [
    {
     "data": {
      "text/plain": [
       "6-element Vector{Float64}:\n",
       "  0.0\n",
       "  0.0\n",
       "  0.0014360192231148137\n",
       "  2.4977289759401806\n",
       "  0.036212201283735104\n",
       " -3.9309737270464775"
      ]
     },
     "metadata": {},
     "output_type": "display_data"
    }
   ],
   "source": [
    "du0_SM"
   ]
  },
  {
   "cell_type": "code",
   "execution_count": 48,
   "metadata": {},
   "outputs": [
    {
     "data": {
      "text/plain": [
       "synchronous_machine_dynamics! (generic function with 1 method)"
      ]
     },
     "metadata": {},
     "output_type": "display_data"
    }
   ],
   "source": [
    "function synchronous_machine_dynamics!(du, u, p, t)\n",
    "    # Unpack parameters\n",
    "    machine, pf_result = p\n",
    "    (V, θ, P, Q) = pf_result\n",
    "\n",
    "    # Unpack state variables\n",
    "    δ, ω, Eq_p, Ed_p, ψq_pp, ψd_pp = u\n",
    "\n",
    "    # Calculate terminal conditions\n",
    "    # Stator voltage equations\n",
    "    # TO-DO: CHECK WHETHER THE BUS ANGLE FROM POWER FLOW SOLUTION SHOULD BE INCLUDED\n",
    "    Vd = V * sin(δ - θ)       # Eqn 15.4\n",
    "    Vq = V * cos(δ - θ)       # Eqn 15.4\n",
    "    println(\"Vd = $Vd\\nVq = $Vq\\n\")\n",
    "\n",
    "    # Terminal voltage\n",
    "    Vt = sqrt(Vd^2 + Vq^2)\n",
    "\n",
    "    # Calculate machine currents\n",
    "    # Helper variables (Eqn 15.14)\n",
    "    γd1 = (machine.Xdpp - machine.Xl) / (machine.Xdp - machine.Xl)\n",
    "    γq1 = (machine.Xqpp - machine.Xl) / (machine.Xqp - machine.Xl)\n",
    "    γd2 = (1 - γd1) / (machine.Xdp - machine.Xl)\n",
    "    γq2 = (1 - γq1) / (machine.Xqp - machine.Xl)\n",
    "\n",
    "    # Current equations (Use 15.11 and 15.15 to eliminate ψq and ψd, solve for Id and Iq)\n",
    "    A = [machine.Xdpp machine.Ra; machine.Ra -machine.Xqpp]\n",
    "    b = [-Vq + γd1 * Eq_p + (1 - γd1) * ψd_pp; -Vd + γq1 * Ed_p + (1 - γq1) * ψq_pp]\n",
    "    currents = A \\ b\n",
    "    Id = currents[1]\n",
    "    Iq = currents[2]\n",
    "    println(\"Id = $Id\\nIq = $Iq\\n\")\n",
    "\n",
    "    # Calculate shaft conditions\n",
    "    # Electromagnetic torque/power (Use 15.11 and 15.6 to eliminate ψq and ψd, solve for Te)\n",
    "    Pe = Vd * Id + Vq * Iq + machine.Ra * (Id^2 + Iq^2)\n",
    "    println(\"Pe = $Pe\\n\")\n",
    "    # Te = Pe   # in per unit, torque equals power\n",
    "\n",
    "    # Total mechanical power input\n",
    "    Pm = Pe\n",
    "\n",
    "    # Synchronous speed in pu\n",
    "    ω_s = 1.0\n",
    "\n",
    "    # Shaft mechanical equations (Eqn 15.5)\n",
    "    du[1] = ω - ω_s  # dδ/dt\n",
    "    du[2] = (Pm - Pe - machine.D * (ω - ω_s)) / (2.0 * machine.H)\n",
    "\n",
    "    # Electrical dynamics\n",
    "    du[3] = (-Eq_p - (machine.Xd - machine.Xdp) * (Id - γd2 * ψd_pp - (1 - γd1) * Id + γd2 * Eq_p) + Vf) / machine.Td0p    # dE'q/dt\n",
    "    du[4] = (-Ed_p + (machine.Xq - machine.Xqp) * (Iq - γq2 * ψq_pp - (1 - γq1) * Iq - γd2 * Ed_p)) / machine.Tq0p         # dE'd/dt    TO-DO: CHECK TYPO IN γq2\n",
    "    du[5] = (-ψd_pp + Eq_p - (machine.Xdp - machine.Xl) * Id) / machine.Td0pp                                              # dE''q/dt\n",
    "    du[6] = (-ψq_pp - Ed_p - (machine.Xqp - machine.Xl) * Iq) / machine.Tq0pp                                              # dE''d/dt\n",
    "\n",
    "    # Add numerical stability safeguards\n",
    "    for i in 1:length(du)\n",
    "        # Limit the rate of change to reasonable values\n",
    "        if abs(du[i]) > 100.0\n",
    "            du[i] = sign(du[i]) * 100.0\n",
    "        end\n",
    "    end\n",
    "end"
   ]
  },
  {
   "cell_type": "code",
   "execution_count": 49,
   "metadata": {},
   "outputs": [
    {
     "name": "stdout",
     "output_type": "stream",
     "text": [
      "Vd = 0.7585077083850829\n",
      "Vq = 0.6732515847143696\n",
      "\n",
      "Id = 0.6305900995301867\n",
      "Iq = 2.4499428834496992\n",
      "\n",
      "Pe = 2.1405351080787485\n",
      "\n"
     ]
    },
    {
     "ename": "UndefVarError",
     "evalue": "UndefVarError: `Vf` not defined in `Main`\nSuggestion: check for spelling errors or missing imports.",
     "output_type": "error",
     "traceback": [
      "UndefVarError: `Vf` not defined in `Main`\n",
      "Suggestion: check for spelling errors or missing imports.\n",
      "\n",
      "Stacktrace:\n",
      " [1] synchronous_machine_dynamics!(du::Vector{Float64}, u::Vector{Float64}, p::Tuple{MachineParams, NTuple{4, Float64}, Float64}, t::Int64)\n",
      "   @ Main ~/projects/ecen_5447_scripts/ECEN-5447-assignments/project-1/jl_notebook_cell_df34fa98e69747e1a8f8a730347b8e2f_X66sZmlsZQ==.jl:51\n",
      " [2] top-level scope\n",
      "   @ ~/projects/ecen_5447_scripts/ECEN-5447-assignments/project-1/jl_notebook_cell_df34fa98e69747e1a8f8a730347b8e2f_Y100sZmlsZQ==.jl:2"
     ]
    }
   ],
   "source": [
    "du0_SM = Vector{Float64}(undef, 6) # return object for derivative calculation\n",
    "synchronous_machine_dynamics!(du0_SM, u0_SM, p_SM, 0)\n",
    "du0_SM"
   ]
  },
  {
   "cell_type": "code",
   "execution_count": 50,
   "metadata": {},
   "outputs": [
    {
     "data": {
      "text/plain": [
       "synchronous_machine_dynamics! (generic function with 1 method)"
      ]
     },
     "metadata": {},
     "output_type": "display_data"
    }
   ],
   "source": [
    "function synchronous_machine_dynamics!(du, u, p, t)\n",
    "    # Unpack parameters\n",
    "    machine, pf_result, Vf = p\n",
    "    (V, θ, P, Q) = pf_result\n",
    "\n",
    "    # Unpack state variables\n",
    "    δ, ω, Eq_p, Ed_p, ψq_pp, ψd_pp = u\n",
    "\n",
    "    # Calculate terminal conditions\n",
    "    # Stator voltage equations\n",
    "    # TO-DO: CHECK WHETHER THE BUS ANGLE FROM POWER FLOW SOLUTION SHOULD BE INCLUDED\n",
    "    Vd = V * sin(δ - θ)       # Eqn 15.4\n",
    "    Vq = V * cos(δ - θ)       # Eqn 15.4\n",
    "    println(\"Vd = $Vd\\nVq = $Vq\\n\")\n",
    "\n",
    "    # Terminal voltage\n",
    "    Vt = sqrt(Vd^2 + Vq^2)\n",
    "\n",
    "    # Calculate machine currents\n",
    "    # Helper variables (Eqn 15.14)\n",
    "    γd1 = (machine.Xdpp - machine.Xl) / (machine.Xdp - machine.Xl)\n",
    "    γq1 = (machine.Xqpp - machine.Xl) / (machine.Xqp - machine.Xl)\n",
    "    γd2 = (1 - γd1) / (machine.Xdp - machine.Xl)\n",
    "    γq2 = (1 - γq1) / (machine.Xqp - machine.Xl)\n",
    "\n",
    "    # Current equations (Use 15.11 and 15.15 to eliminate ψq and ψd, solve for Id and Iq)\n",
    "    A = [machine.Xdpp machine.Ra; machine.Ra -machine.Xqpp]\n",
    "    b = [-Vq + γd1 * Eq_p + (1 - γd1) * ψd_pp; -Vd + γq1 * Ed_p + (1 - γq1) * ψq_pp]\n",
    "    currents = A \\ b\n",
    "    Id = currents[1]\n",
    "    Iq = currents[2]\n",
    "    println(\"Id = $Id\\nIq = $Iq\\n\")\n",
    "\n",
    "    # Calculate shaft conditions\n",
    "    # Electromagnetic torque/power (Use 15.11 and 15.6 to eliminate ψq and ψd, solve for Te)\n",
    "    Pe = Vd * Id + Vq * Iq + machine.Ra * (Id^2 + Iq^2)\n",
    "    println(\"Pe = $Pe\\n\")\n",
    "    # Te = Pe   # in per unit, torque equals power\n",
    "\n",
    "    # Total mechanical power input\n",
    "    Pm = Pe\n",
    "\n",
    "    # Synchronous speed in pu\n",
    "    ω_s = 1.0\n",
    "\n",
    "    # Shaft mechanical equations (Eqn 15.5)\n",
    "    du[1] = ω - ω_s  # dδ/dt\n",
    "    du[2] = (Pm - Pe - machine.D * (ω - ω_s)) / (2.0 * machine.H)\n",
    "\n",
    "    # Electrical dynamics\n",
    "    du[3] = (-Eq_p - (machine.Xd - machine.Xdp) * (Id - γd2 * ψd_pp - (1 - γd1) * Id + γd2 * Eq_p) + Vf) / machine.Td0p    # dE'q/dt\n",
    "    du[4] = (-Ed_p + (machine.Xq - machine.Xqp) * (Iq - γq2 * ψq_pp - (1 - γq1) * Iq - γd2 * Ed_p)) / machine.Tq0p         # dE'd/dt    TO-DO: CHECK TYPO IN γq2\n",
    "    du[5] = (-ψd_pp + Eq_p - (machine.Xdp - machine.Xl) * Id) / machine.Td0pp                                              # dE''q/dt\n",
    "    du[6] = (-ψq_pp - Ed_p - (machine.Xqp - machine.Xl) * Iq) / machine.Tq0pp                                              # dE''d/dt\n",
    "\n",
    "    # Add numerical stability safeguards\n",
    "    for i in 1:length(du)\n",
    "        # Limit the rate of change to reasonable values\n",
    "        if abs(du[i]) > 100.0\n",
    "            du[i] = sign(du[i]) * 100.0\n",
    "        end\n",
    "    end\n",
    "end"
   ]
  },
  {
   "cell_type": "code",
   "execution_count": 51,
   "metadata": {},
   "outputs": [
    {
     "name": "stdout",
     "output_type": "stream",
     "text": [
      "Vd = 0.7585077083850829\n",
      "Vq = 0.6732515847143696\n",
      "\n",
      "Id = 0.6305900995301867\n",
      "Iq = 2.4499428834496992\n",
      "\n",
      "Pe = 2.1405351080787485\n",
      "\n"
     ]
    },
    {
     "data": {
      "text/plain": [
       "6-element Vector{Float64}:\n",
       "   0.0\n",
       "   0.0\n",
       "   0.0014360192231148137\n",
       " -19.820220628608663\n",
       "   0.036212201283735104\n",
       "  -3.9309737270464775"
      ]
     },
     "metadata": {},
     "output_type": "display_data"
    }
   ],
   "source": [
    "du0_SM = Vector{Float64}(undef, 6) # return object for derivative calculation\n",
    "synchronous_machine_dynamics!(du0_SM, u0_SM, p_SM, 0)\n",
    "du0_SM"
   ]
  },
  {
   "cell_type": "code",
   "execution_count": 56,
   "metadata": {},
   "outputs": [
    {
     "data": {
      "text/plain": [
       "0.7585077083850829"
      ]
     },
     "metadata": {},
     "output_type": "display_data"
    }
   ],
   "source": [
    "Vd_0"
   ]
  },
  {
   "cell_type": "code",
   "execution_count": 57,
   "metadata": {},
   "outputs": [
    {
     "data": {
      "text/plain": [
       "0.6732515847143696"
      ]
     },
     "metadata": {},
     "output_type": "display_data"
    }
   ],
   "source": [
    "Vq_0"
   ]
  },
  {
   "cell_type": "code",
   "execution_count": 58,
   "metadata": {},
   "outputs": [
    {
     "data": {
      "text/plain": [
       "0.6603026749424807"
      ]
     },
     "metadata": {},
     "output_type": "display_data"
    }
   ],
   "source": [
    "Id_0"
   ]
  },
  {
   "cell_type": "code",
   "execution_count": 59,
   "metadata": {},
   "outputs": [
    {
     "data": {
      "text/plain": [
       "0.44434404311986414"
      ]
     },
     "metadata": {},
     "output_type": "display_data"
    }
   ],
   "source": [
    "Iq_0"
   ]
  },
  {
   "cell_type": "code",
   "execution_count": 60,
   "metadata": {},
   "outputs": [
    {
     "data": {
      "text/plain": [
       "0.8"
      ]
     },
     "metadata": {},
     "output_type": "display_data"
    }
   ],
   "source": [
    "P_0"
   ]
  },
  {
   "cell_type": "code",
   "execution_count": 61,
   "metadata": {},
   "outputs": [
    {
     "data": {
      "text/plain": [
       "0.8"
      ]
     },
     "metadata": {},
     "output_type": "display_data"
    }
   ],
   "source": [
    "Vd_0 * Id_0 + Vq_0 * Iq_0"
   ]
  },
  {
   "cell_type": "code",
   "execution_count": 62,
   "metadata": {},
   "outputs": [
    {
     "data": {
      "text/plain": [
       "1.3877787807814457e-16"
      ]
     },
     "metadata": {},
     "output_type": "display_data"
    }
   ],
   "source": [
    "(Vq_0 * Id_0 - Vd_0 * Iq_0) - Q_0"
   ]
  },
  {
   "cell_type": "markdown",
   "metadata": {},
   "source": [
    "There seems to be an error in the DQ current calculation...\n",
    "\n",
    "In `synchronous_machine_dynamics!` we have:\n",
    "```julia\n",
    "A = [machine.Xdpp machine.Ra; machine.Ra -machine.Xqpp]\n",
    "b = [-Vq + γd1 * Eq_p + (1 - γd1) * ψd_pp; -Vd + γq1 * Ed_p + (1 - γq1) * ψq_pp]\n",
    "currents = A \\ b\n",
    "Id = currents[1]\n",
    "Iq = currents[2]\n",
    "```\n",
    "\n",
    "After double-checking my algebra, I believe it should be:\n",
    "```julia\n",
    "b = [-Vq + γd1 * Eq_p + (1 - γd1) * ψd_pp; -Vd + γq1 * Ed_p - (1 - γq1) * ψq_pp]\n",
    "```"
   ]
  },
  {
   "cell_type": "markdown",
   "metadata": {},
   "source": [
    "Let's try calculating Id and Iq using the method in `synchronous_machine_dynamics!`, but with the error corrected:"
   ]
  },
  {
   "cell_type": "code",
   "execution_count": 63,
   "metadata": {},
   "outputs": [
    {
     "name": "stdout",
     "output_type": "stream",
     "text": [
      "Difference in Vd calculation: 0.0\n",
      "Difference in Vq calculation: 0.0\n"
     ]
    }
   ],
   "source": [
    "#u0_SM = [δ0, 1.0, Eq_p0, Ed_p0, ψq_pp0, ψd_pp0]\n",
    "#(V_0, θ_0, P_0, Q_0) = v[2], θ[2], P[2], Q[2]\n",
    "\n",
    "Vd = V_0 * sin(δ0 - θ_0)       # Eqn 15.4\n",
    "Vq = V_0 * cos(δ0 - θ_0)       # Eqn 15.4\n",
    "\n",
    "println(\"Difference in Vd calculation: $(Vd - Vd_0)\")\n",
    "println(\"Difference in Vq calculation: $(Vq - Vq_0)\")\n"
   ]
  },
  {
   "cell_type": "code",
   "execution_count": 65,
   "metadata": {},
   "outputs": [
    {
     "name": "stdout",
     "output_type": "stream",
     "text": [
      "Difference in Id calculation: -1.1102230246251565e-16\n",
      "Difference in Iq calculation: -1.6653345369377348e-16\n"
     ]
    }
   ],
   "source": [
    "# Helper variables (Eqn 15.14)\n",
    "γd1 = (machine.Xdpp - machine.Xl) / (machine.Xdp - machine.Xl)\n",
    "γq1 = (machine.Xqpp - machine.Xl) / (machine.Xqp - machine.Xl)\n",
    "γd2 = (1 - γd1) / (machine.Xdp - machine.Xl)\n",
    "γq2 = (1 - γq1) / (machine.Xqp - machine.Xl)\n",
    "\n",
    "# Current equations (Use 15.11 and 15.15 to eliminate ψq and ψd, solve for Id and Iq)\n",
    "A = [machine.Xdpp machine.Ra; machine.Ra -machine.Xqpp]\n",
    "b = [-Vq + γd1 * Eq_p0 + (1 - γd1) * ψd_pp0; -Vd + γq1 * Ed_p0 - (1 - γq1) * ψq_pp0]\n",
    "currents = A \\ b\n",
    "Id = currents[1]\n",
    "Iq = currents[2]\n",
    "\n",
    "println(\"Difference in Id calculation: $(Id - Id_0)\")\n",
    "println(\"Difference in Iq calculation: $(Iq - Iq_0)\")"
   ]
  },
  {
   "cell_type": "markdown",
   "metadata": {},
   "source": [
    "That did it!"
   ]
  },
  {
   "cell_type": "markdown",
   "metadata": {},
   "source": []
  }
 ],
 "metadata": {
  "kernelspec": {
   "display_name": "Julia 1.11.3",
   "language": "julia",
   "name": "julia-1.11"
  },
  "language_info": {
   "file_extension": ".jl",
   "mimetype": "application/julia",
   "name": "julia",
   "version": "1.11.3"
  }
 },
 "nbformat": 4,
 "nbformat_minor": 2
}
